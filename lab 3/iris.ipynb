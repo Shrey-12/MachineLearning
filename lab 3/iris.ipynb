{
 "cells": [
  {
   "cell_type": "code",
   "execution_count": 1,
   "id": "5bb05334-4fb3-422a-ab82-156f4e91ef04",
   "metadata": {},
   "outputs": [],
   "source": [
    "import numpy as np\n",
    "import pandas as pd"
   ]
  },
  {
   "cell_type": "code",
   "execution_count": 2,
   "id": "861d78ab-588f-4e38-8e35-6a2d8216df6a",
   "metadata": {
    "scrolled": true
   },
   "outputs": [
    {
     "data": {
      "text/html": [
       "<div>\n",
       "<style scoped>\n",
       "    .dataframe tbody tr th:only-of-type {\n",
       "        vertical-align: middle;\n",
       "    }\n",
       "\n",
       "    .dataframe tbody tr th {\n",
       "        vertical-align: top;\n",
       "    }\n",
       "\n",
       "    .dataframe thead th {\n",
       "        text-align: right;\n",
       "    }\n",
       "</style>\n",
       "<table border=\"1\" class=\"dataframe\">\n",
       "  <thead>\n",
       "    <tr style=\"text-align: right;\">\n",
       "      <th></th>\n",
       "      <th>gender</th>\n",
       "      <th>age</th>\n",
       "      <th>hypertension</th>\n",
       "      <th>heart_disease</th>\n",
       "      <th>smoking_history</th>\n",
       "      <th>bmi</th>\n",
       "      <th>HbA1c_level</th>\n",
       "      <th>blood_glucose_level</th>\n",
       "      <th>diabetes</th>\n",
       "    </tr>\n",
       "  </thead>\n",
       "  <tbody>\n",
       "    <tr>\n",
       "      <th>0</th>\n",
       "      <td>Female</td>\n",
       "      <td>80.0</td>\n",
       "      <td>0</td>\n",
       "      <td>1</td>\n",
       "      <td>never</td>\n",
       "      <td>25.19</td>\n",
       "      <td>6.6</td>\n",
       "      <td>140</td>\n",
       "      <td>0</td>\n",
       "    </tr>\n",
       "    <tr>\n",
       "      <th>1</th>\n",
       "      <td>Female</td>\n",
       "      <td>54.0</td>\n",
       "      <td>0</td>\n",
       "      <td>0</td>\n",
       "      <td>No Info</td>\n",
       "      <td>27.32</td>\n",
       "      <td>6.6</td>\n",
       "      <td>80</td>\n",
       "      <td>0</td>\n",
       "    </tr>\n",
       "    <tr>\n",
       "      <th>2</th>\n",
       "      <td>Male</td>\n",
       "      <td>28.0</td>\n",
       "      <td>0</td>\n",
       "      <td>0</td>\n",
       "      <td>never</td>\n",
       "      <td>27.32</td>\n",
       "      <td>5.7</td>\n",
       "      <td>158</td>\n",
       "      <td>0</td>\n",
       "    </tr>\n",
       "    <tr>\n",
       "      <th>3</th>\n",
       "      <td>Female</td>\n",
       "      <td>36.0</td>\n",
       "      <td>0</td>\n",
       "      <td>0</td>\n",
       "      <td>current</td>\n",
       "      <td>23.45</td>\n",
       "      <td>5.0</td>\n",
       "      <td>155</td>\n",
       "      <td>0</td>\n",
       "    </tr>\n",
       "    <tr>\n",
       "      <th>4</th>\n",
       "      <td>Male</td>\n",
       "      <td>76.0</td>\n",
       "      <td>1</td>\n",
       "      <td>1</td>\n",
       "      <td>current</td>\n",
       "      <td>20.14</td>\n",
       "      <td>4.8</td>\n",
       "      <td>155</td>\n",
       "      <td>0</td>\n",
       "    </tr>\n",
       "  </tbody>\n",
       "</table>\n",
       "</div>"
      ],
      "text/plain": [
       "   gender   age  hypertension  heart_disease smoking_history    bmi  \\\n",
       "0  Female  80.0             0              1           never  25.19   \n",
       "1  Female  54.0             0              0         No Info  27.32   \n",
       "2    Male  28.0             0              0           never  27.32   \n",
       "3  Female  36.0             0              0         current  23.45   \n",
       "4    Male  76.0             1              1         current  20.14   \n",
       "\n",
       "   HbA1c_level  blood_glucose_level  diabetes  \n",
       "0          6.6                  140         0  \n",
       "1          6.6                   80         0  \n",
       "2          5.7                  158         0  \n",
       "3          5.0                  155         0  \n",
       "4          4.8                  155         0  "
      ]
     },
     "execution_count": 2,
     "metadata": {},
     "output_type": "execute_result"
    }
   ],
   "source": [
    "df = pd.read_csv(\"diabetes_prediction_dataset.csv\")\n",
    "df.head()"
   ]
  },
  {
   "cell_type": "code",
   "execution_count": 3,
   "id": "4a297cb8-be5a-4d41-ac2e-37ba44d655ae",
   "metadata": {},
   "outputs": [],
   "source": [
    "from sklearn.model_selection import train_test_split"
   ]
  },
  {
   "cell_type": "code",
   "execution_count": 4,
   "id": "f32bb3b7-b63b-4a86-8ac6-658563fa0dce",
   "metadata": {},
   "outputs": [
    {
     "data": {
      "text/plain": [
       "array(['never', 'No Info', 'current', 'former', 'ever', 'not current'],\n",
       "      dtype=object)"
      ]
     },
     "execution_count": 4,
     "metadata": {},
     "output_type": "execute_result"
    }
   ],
   "source": [
    "df['smoking_history'].unique()"
   ]
  },
  {
   "cell_type": "code",
   "execution_count": 5,
   "id": "20a104d4-f2f7-4a2f-88bb-a7bef83d1a33",
   "metadata": {},
   "outputs": [],
   "source": [
    "mapping_gender={'Female':0,'Male':1,'Other':2}\n",
    "mapping_smoking={'never':0,'No Info':1,'current':2,'former':3,'ever':4,'not current':5}"
   ]
  },
  {
   "cell_type": "code",
   "execution_count": 6,
   "id": "6dac8e1a-acce-40a3-ad10-bdac1c6e731f",
   "metadata": {},
   "outputs": [],
   "source": [
    "df['gender'] = df['gender'].map(mapping_gender)\n",
    "df['smoking_history'] = df['smoking_history'].map(mapping_smoking)"
   ]
  },
  {
   "cell_type": "code",
   "execution_count": 7,
   "id": "fd352448-115d-4c35-b1ed-e15f4e1ba40c",
   "metadata": {},
   "outputs": [
    {
     "data": {
      "text/html": [
       "<div>\n",
       "<style scoped>\n",
       "    .dataframe tbody tr th:only-of-type {\n",
       "        vertical-align: middle;\n",
       "    }\n",
       "\n",
       "    .dataframe tbody tr th {\n",
       "        vertical-align: top;\n",
       "    }\n",
       "\n",
       "    .dataframe thead th {\n",
       "        text-align: right;\n",
       "    }\n",
       "</style>\n",
       "<table border=\"1\" class=\"dataframe\">\n",
       "  <thead>\n",
       "    <tr style=\"text-align: right;\">\n",
       "      <th></th>\n",
       "      <th>gender</th>\n",
       "      <th>age</th>\n",
       "      <th>hypertension</th>\n",
       "      <th>heart_disease</th>\n",
       "      <th>smoking_history</th>\n",
       "      <th>bmi</th>\n",
       "      <th>HbA1c_level</th>\n",
       "      <th>blood_glucose_level</th>\n",
       "      <th>diabetes</th>\n",
       "    </tr>\n",
       "  </thead>\n",
       "  <tbody>\n",
       "    <tr>\n",
       "      <th>0</th>\n",
       "      <td>0</td>\n",
       "      <td>80.0</td>\n",
       "      <td>0</td>\n",
       "      <td>1</td>\n",
       "      <td>0</td>\n",
       "      <td>25.19</td>\n",
       "      <td>6.6</td>\n",
       "      <td>140</td>\n",
       "      <td>0</td>\n",
       "    </tr>\n",
       "    <tr>\n",
       "      <th>1</th>\n",
       "      <td>0</td>\n",
       "      <td>54.0</td>\n",
       "      <td>0</td>\n",
       "      <td>0</td>\n",
       "      <td>1</td>\n",
       "      <td>27.32</td>\n",
       "      <td>6.6</td>\n",
       "      <td>80</td>\n",
       "      <td>0</td>\n",
       "    </tr>\n",
       "    <tr>\n",
       "      <th>2</th>\n",
       "      <td>1</td>\n",
       "      <td>28.0</td>\n",
       "      <td>0</td>\n",
       "      <td>0</td>\n",
       "      <td>0</td>\n",
       "      <td>27.32</td>\n",
       "      <td>5.7</td>\n",
       "      <td>158</td>\n",
       "      <td>0</td>\n",
       "    </tr>\n",
       "    <tr>\n",
       "      <th>3</th>\n",
       "      <td>0</td>\n",
       "      <td>36.0</td>\n",
       "      <td>0</td>\n",
       "      <td>0</td>\n",
       "      <td>2</td>\n",
       "      <td>23.45</td>\n",
       "      <td>5.0</td>\n",
       "      <td>155</td>\n",
       "      <td>0</td>\n",
       "    </tr>\n",
       "    <tr>\n",
       "      <th>4</th>\n",
       "      <td>1</td>\n",
       "      <td>76.0</td>\n",
       "      <td>1</td>\n",
       "      <td>1</td>\n",
       "      <td>2</td>\n",
       "      <td>20.14</td>\n",
       "      <td>4.8</td>\n",
       "      <td>155</td>\n",
       "      <td>0</td>\n",
       "    </tr>\n",
       "  </tbody>\n",
       "</table>\n",
       "</div>"
      ],
      "text/plain": [
       "   gender   age  hypertension  heart_disease  smoking_history    bmi  \\\n",
       "0       0  80.0             0              1                0  25.19   \n",
       "1       0  54.0             0              0                1  27.32   \n",
       "2       1  28.0             0              0                0  27.32   \n",
       "3       0  36.0             0              0                2  23.45   \n",
       "4       1  76.0             1              1                2  20.14   \n",
       "\n",
       "   HbA1c_level  blood_glucose_level  diabetes  \n",
       "0          6.6                  140         0  \n",
       "1          6.6                   80         0  \n",
       "2          5.7                  158         0  \n",
       "3          5.0                  155         0  \n",
       "4          4.8                  155         0  "
      ]
     },
     "execution_count": 7,
     "metadata": {},
     "output_type": "execute_result"
    }
   ],
   "source": [
    "df.head()"
   ]
  },
  {
   "cell_type": "code",
   "execution_count": 8,
   "id": "689c6a45-f547-4e9f-a227-a26c62f0569a",
   "metadata": {},
   "outputs": [],
   "source": [
    "X=df.drop(columns=['diabetes'],axis =1).values\n",
    "y=df['diabetes'].values"
   ]
  },
  {
   "cell_type": "code",
   "execution_count": 9,
   "id": "9c84d834-1907-435e-8ece-f3495ff97724",
   "metadata": {},
   "outputs": [],
   "source": [
    "X_train, X_test, y_train, y_test = train_test_split(X, y, test_size=0.2, random_state=42)"
   ]
  },
  {
   "cell_type": "code",
   "execution_count": 10,
   "id": "40feb02f-9425-47df-87e4-f3f238299ed8",
   "metadata": {},
   "outputs": [
    {
     "data": {
      "text/plain": [
       "array([[  1.  ,  73.  ,   0.  , ...,  24.77,   3.5 ,  80.  ],\n",
       "       [  1.  ,  80.  ,   0.  , ...,  24.6 ,   5.7 , 145.  ],\n",
       "       [  0.  ,  38.  ,   0.  , ...,  24.33,   4.  , 158.  ],\n",
       "       ...,\n",
       "       [  1.  ,  42.  ,   0.  , ...,  26.14,   5.8 ,  85.  ],\n",
       "       [  0.  ,  37.  ,   0.  , ...,  24.96,   6.2 , 158.  ],\n",
       "       [  0.  ,  23.  ,   0.  , ...,  27.99,   5.  , 159.  ]])"
      ]
     },
     "execution_count": 10,
     "metadata": {},
     "output_type": "execute_result"
    }
   ],
   "source": [
    "X_train"
   ]
  },
  {
   "cell_type": "code",
   "execution_count": 10,
   "id": "6987c3d8-10fb-4c6c-8412-1ea97975256b",
   "metadata": {},
   "outputs": [],
   "source": [
    "y_train = y_train.reshape(1,-1)\n",
    "y_test = y_test.reshape(1,-1)"
   ]
  },
  {
   "cell_type": "code",
   "execution_count": 11,
   "id": "1e9aa306-0b3a-43f0-8008-9fbd755e204d",
   "metadata": {},
   "outputs": [
    {
     "data": {
      "text/plain": [
       "array([0, 0, 0, ..., 0, 0, 0], dtype=int64)"
      ]
     },
     "execution_count": 11,
     "metadata": {},
     "output_type": "execute_result"
    }
   ],
   "source": [
    "y_test"
   ]
  },
  {
   "cell_type": "code",
   "execution_count": 12,
   "id": "cc1225e1-86f6-433d-b4ea-67a42538d8d6",
   "metadata": {},
   "outputs": [],
   "source": [
    "def weightInitialization(n_features):\n",
    "    w = np.zeros((1,n_features))\n",
    "    b = 0\n",
    "    return w, b"
   ]
  },
  {
   "cell_type": "code",
   "execution_count": 13,
   "id": "8960f622-f81e-44b6-96a2-d79975d72813",
   "metadata": {},
   "outputs": [],
   "source": [
    "def sigmoid_activation(result):\n",
    "    final_result = 1/ (1 + np.exp(-result))\n",
    "    return final_result"
   ]
  },
  {
   "cell_type": "code",
   "execution_count": 14,
   "id": "e9d628a8-527d-403c-bd01-42c9b942b0db",
   "metadata": {},
   "outputs": [],
   "source": [
    "def model_optimize(w,b,X,Y):\n",
    "    m = X.shape[0]\n",
    "    final_result = sigmoid_activation(np.dot(w,X.T) + b)\n",
    "    Y_T = Y.T\n",
    "    cost = (-1/m)*np.sum((Y_T*np.log(final_result)) + ((1 - Y_T )* np.log(1 - final_result)))\n",
    "    dw = (1/m) *np.dot(X.T, (final_result -Y_T).T)\n",
    "    db = (1/m) * np.sum(final_result - Y_T)\n",
    "    gradients = {\"dw\" : dw, \"db\":db}\n",
    "    return gradients, cost"
   ]
  },
  {
   "cell_type": "code",
   "execution_count": 15,
   "id": "f5ae383e-0db9-4f27-881b-511f99e12e24",
   "metadata": {},
   "outputs": [],
   "source": [
    "def model_prediction(w,b,X,Y,learning_rate,no_iterations):\n",
    "    costs = []\n",
    "    for i in range(no_iterations):\n",
    "        gradients,cost = model_optimize(w,b,X,Y)\n",
    "        dw = gradients[\"dw\"]\n",
    "        db = gradients[\"db\"]\n",
    "        w = w - (learning_rate *dw.T)\n",
    "        b = b - (learning_rate *db)\n",
    "        if i % 100 ==0:\n",
    "            costs.append(cost)\n",
    "            print(\"Cost after %i iteration is %f\" %(i, cost))\n",
    "    coeff={\"w\":w,\"b\":b}\n",
    "    gradient={\"dw\":dw,\"db\":db}\n",
    "    return coeff,gradient,costs"
   ]
  },
  {
   "cell_type": "code",
   "execution_count": 47,
   "id": "a0724811-c73d-43e8-a2c0-216241d7b95d",
   "metadata": {},
   "outputs": [],
   "source": [
    "def predict(final_pred, m):\n",
    "    y_pred = np.zeros((1, m))\n",
    "    for i in range(final_pred.shape[1]):\n",
    "        if final_pred[0][i] > 0.5:\n",
    "            y_pred[0][i] = 1\n",
    "    return y_pred"
   ]
  },
  {
   "cell_type": "code",
   "execution_count": 57,
   "id": "47301eef-c685-467a-b057-a7d71a95ff1e",
   "metadata": {},
   "outputs": [],
   "source": [
    "n_features = X_train.shape[1]\n",
    "learning_rate = 0.001\n",
    "no_iterations = 1000"
   ]
  },
  {
   "cell_type": "code",
   "execution_count": 20,
   "id": "4a980a94-bb79-43e6-b423-c87a009a70a3",
   "metadata": {},
   "outputs": [
    {
     "data": {
      "text/plain": [
       "8"
      ]
     },
     "execution_count": 20,
     "metadata": {},
     "output_type": "execute_result"
    }
   ],
   "source": [
    "n_features"
   ]
  },
  {
   "cell_type": "code",
   "execution_count": 18,
   "id": "6e898806-cb1e-4f25-85b6-73be1aa2514a",
   "metadata": {},
   "outputs": [],
   "source": [
    "w,b = weightInitialization(n_features)"
   ]
  },
  {
   "cell_type": "code",
   "execution_count": 21,
   "id": "473b1bbc-07d6-406a-a64e-5f5d5b944358",
   "metadata": {},
   "outputs": [
    {
     "data": {
      "text/plain": [
       "(80000, 8)"
      ]
     },
     "execution_count": 21,
     "metadata": {},
     "output_type": "execute_result"
    }
   ],
   "source": [
    "X_train.shape"
   ]
  },
  {
   "cell_type": "code",
   "execution_count": 22,
   "id": "40bcf9ee-f72c-4b0f-b08c-b355e17d06a5",
   "metadata": {},
   "outputs": [
    {
     "data": {
      "text/plain": [
       "array([[  1.  ,  73.  ,   0.  , ...,  24.77,   3.5 ,  80.  ],\n",
       "       [  1.  ,  80.  ,   0.  , ...,  24.6 ,   5.7 , 145.  ],\n",
       "       [  0.  ,  38.  ,   0.  , ...,  24.33,   4.  , 158.  ],\n",
       "       ...,\n",
       "       [  1.  ,  42.  ,   0.  , ...,  26.14,   5.8 ,  85.  ],\n",
       "       [  0.  ,  37.  ,   0.  , ...,  24.96,   6.2 , 158.  ],\n",
       "       [  0.  ,  23.  ,   0.  , ...,  27.99,   5.  , 159.  ]])"
      ]
     },
     "execution_count": 22,
     "metadata": {},
     "output_type": "execute_result"
    }
   ],
   "source": [
    "X_train"
   ]
  },
  {
   "cell_type": "code",
   "execution_count": 23,
   "id": "1d8dda88-57ac-4c18-83b2-487db577954a",
   "metadata": {},
   "outputs": [
    {
     "data": {
      "text/plain": [
       "array([[0., 0., 0., 0., 0., 0., 0., 0.]])"
      ]
     },
     "execution_count": 23,
     "metadata": {},
     "output_type": "execute_result"
    }
   ],
   "source": [
    "w"
   ]
  },
  {
   "cell_type": "code",
   "execution_count": 24,
   "id": "c16c206a-a430-4f20-acfa-d36634989e14",
   "metadata": {},
   "outputs": [
    {
     "data": {
      "text/plain": [
       "0"
      ]
     },
     "execution_count": 24,
     "metadata": {},
     "output_type": "execute_result"
    }
   ],
   "source": [
    "b"
   ]
  },
  {
   "cell_type": "code",
   "execution_count": 58,
   "id": "bef9d504-5f4a-458f-9af8-3f2d622fb959",
   "metadata": {},
   "outputs": [
    {
     "name": "stdout",
     "output_type": "stream",
     "text": [
      "Cost after 0 iteration is 0.693147\n",
      "Cost after 100 iteration is 0.356164\n",
      "Cost after 200 iteration is 0.345307\n",
      "Cost after 300 iteration is 0.341268\n",
      "Cost after 400 iteration is 0.339596\n",
      "Cost after 500 iteration is 0.338837\n",
      "Cost after 600 iteration is 0.338453\n",
      "Cost after 700 iteration is 0.338229\n",
      "Cost after 800 iteration is 0.338073\n",
      "Cost after 900 iteration is 0.337946\n"
     ]
    }
   ],
   "source": [
    "coeff,gradient,cost = model_prediction(w,b,X_train,y_train,learning_rate,no_iterations)"
   ]
  },
  {
   "cell_type": "code",
   "execution_count": 59,
   "id": "ae93b1d5-7d39-4590-9740-a432b2f59b13",
   "metadata": {},
   "outputs": [],
   "source": [
    "final_result = sigmoid_activation(np.dot(coeff['w'], X_test.T) + coeff['b'])"
   ]
  },
  {
   "cell_type": "code",
   "execution_count": 60,
   "id": "1c1fe157-4d8f-4b93-bbd9-eb98baa2138f",
   "metadata": {},
   "outputs": [
    {
     "data": {
      "text/plain": [
       "array([[0.15608828, 0.15194016, 0.44746876, ..., 0.13404462, 0.18615257,\n",
       "        0.2384033 ]])"
      ]
     },
     "execution_count": 60,
     "metadata": {},
     "output_type": "execute_result"
    }
   ],
   "source": [
    "final_result"
   ]
  },
  {
   "cell_type": "code",
   "execution_count": 61,
   "id": "3d827998-ba64-4cd0-87fe-806867954542",
   "metadata": {},
   "outputs": [],
   "source": [
    "predictions = predict(final_result, X_test.shape[0])"
   ]
  },
  {
   "cell_type": "code",
   "execution_count": 62,
   "id": "baf57b0d-6f30-4e97-96b7-dab4e9f34d51",
   "metadata": {},
   "outputs": [
    {
     "data": {
      "text/plain": [
       "array([[0., 0., 0., ..., 0., 0., 0.]])"
      ]
     },
     "execution_count": 62,
     "metadata": {},
     "output_type": "execute_result"
    }
   ],
   "source": [
    "predictions"
   ]
  },
  {
   "cell_type": "code",
   "execution_count": 63,
   "id": "200dc7a1-0a25-44ac-af87-c89d05387aac",
   "metadata": {},
   "outputs": [],
   "source": [
    "def accuracy(y_true, y_pred):\n",
    "    correct_predictions = np.sum(y_true == y_pred)\n",
    "    total_predictions = len(y_true)\n",
    "    accuracy = correct_predictions / total_predictions\n",
    "    return accuracy*100"
   ]
  },
  {
   "cell_type": "code",
   "execution_count": 64,
   "id": "f611a312-23ae-44b4-b821-3cb4914e4d70",
   "metadata": {},
   "outputs": [],
   "source": [
    "acc = accuracy(y_test,predictions[0])"
   ]
  },
  {
   "cell_type": "code",
   "execution_count": 65,
   "id": "d52c8bf2-7d47-4556-a2e9-aca1148eebdc",
   "metadata": {},
   "outputs": [
    {
     "data": {
      "text/plain": [
       "91.19500000000001"
      ]
     },
     "execution_count": 65,
     "metadata": {},
     "output_type": "execute_result"
    }
   ],
   "source": [
    "acc"
   ]
  },
  {
   "cell_type": "code",
   "execution_count": null,
   "id": "d723a520-e18b-4e30-aee7-e23c2e385fee",
   "metadata": {},
   "outputs": [],
   "source": []
  }
 ],
 "metadata": {
  "kernelspec": {
   "display_name": "Python 3 (ipykernel)",
   "language": "python",
   "name": "python3"
  },
  "language_info": {
   "codemirror_mode": {
    "name": "ipython",
    "version": 3
   },
   "file_extension": ".py",
   "mimetype": "text/x-python",
   "name": "python",
   "nbconvert_exporter": "python",
   "pygments_lexer": "ipython3",
   "version": "3.11.4"
  }
 },
 "nbformat": 4,
 "nbformat_minor": 5
}
