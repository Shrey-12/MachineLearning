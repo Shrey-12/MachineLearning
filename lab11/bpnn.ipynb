{
 "cells": [
  {
   "cell_type": "code",
   "execution_count": 1,
   "id": "89eb288b-dd59-43f4-a215-a12bd21dc0b4",
   "metadata": {},
   "outputs": [],
   "source": [
    "import tensorflow as tf\n",
    "from tensorflow import keras"
   ]
  },
  {
   "cell_type": "code",
   "execution_count": 3,
   "id": "ca645ee1-11c6-429c-8822-7465e60c4122",
   "metadata": {},
   "outputs": [
    {
     "name": "stdout",
     "output_type": "stream",
     "text": [
      "Learning rate: 0.5\n",
      "Predictions: [[0.99994517 0.99987443]]\n",
      "Loss: 0.5311476951264524\n",
      "Learning rate: 0.1\n",
      "Predictions: [[0.99971238 0.99938084]]\n",
      "Loss: 0.5307293272587658\n",
      "Learning rate: 0.01\n",
      "Predictions: [[0.99666362 0.99426646]]\n",
      "Loss: 0.5258090233418862\n"
     ]
    }
   ],
   "source": [
    "import numpy as np\n",
    "\n",
    "def sigmoid(x):\n",
    "    return 1 / (1 + np.exp(-x))\n",
    "\n",
    "\n",
    "def sigmoid_derivative(x):\n",
    "    return x * (1 - x)\n",
    "\n",
    "class BPNN:\n",
    "    def __init__(self, in_n, hid_n, out_n, lr):\n",
    "        self.in_n = in_n\n",
    "        self.hid_n = hid_n\n",
    "        self.out_n = out_n\n",
    "        self.lr = lr\n",
    "\n",
    "        self.w_ih = np.array([[0.1, 0.3], [0.25, 0.8]])\n",
    "        self.w_ho = np.array([[0.2, 0.6], [0.4, 0.7]])\n",
    "\n",
    "        self.b_i = 1\n",
    "        self.b_h = 1\n",
    "\n",
    "    def train(self, in_data, target_data):\n",
    "\n",
    "        # z = wx+b\n",
    "        hid_in = np.dot(in_data, self.w_ih) + self.b_i\n",
    "        #sigmoid(z)\n",
    "        hid_out = sigmoid(hid_in)\n",
    "        # o = wz + b\n",
    "        out_in = np.dot(hid_out, self.w_ho) + self.b_h\n",
    "        #sigmoid(z)\n",
    "        predicted_out = sigmoid(out_in)\n",
    "\n",
    "        # y_true - y_predicted\n",
    "        error = target_data - predicted_out\n",
    "        # error*g*w_hiddenLayer*sigma*(1-sigma)*sigmoid(x)\n",
    "        out_delta = -error * sigmoid_derivative(predicted_out)\n",
    "        hid_error = out_delta.dot(self.w_ho.T)\n",
    "        hid_delta = hid_error * sigmoid_derivative(hid_out)\n",
    "\n",
    "        self.w_ho += hid_out.T.dot(out_delta) * self.lr\n",
    "        self.w_ih += in_data.T.dot(hid_delta) * self.lr\n",
    "        self.b_h += np.sum(out_delta) * self.lr\n",
    "        self.b_i += np.sum(hid_delta) * self.lr\n",
    "\n",
    "    def predict(self, in_data):\n",
    "        hid_in = np.dot(in_data, self.w_ih) + self.b_i\n",
    "        hid_out = sigmoid(hid_in)\n",
    "\n",
    "        out_in = np.dot(hid_out, self.w_ho) + self.b_h\n",
    "        predicted_out = sigmoid(out_in)\n",
    "\n",
    "        return predicted_out\n",
    "\n",
    "# Input data\n",
    "in_data = np.array([[0.3, 0.8]])\n",
    "\n",
    "# Target data\n",
    "target_data = np.array([[0.05, 0.6]])\n",
    "\n",
    "# Create the neural network\n",
    "lrs = [0.5, 0.1, 0.01]\n",
    "mse = tf.keras.losses.MeanSquaredError()\n",
    "\n",
    "for lr in lrs:\n",
    "    nn = BPNN(in_n=2, hid_n=2, out_n=2, lr=lr)\n",
    "\n",
    "    # Train the neural network\n",
    "    for _ in range(10000):\n",
    "        nn.train(in_data, target_data)\n",
    "\n",
    "    # Make predictions\n",
    "    predictions = nn.predict(in_data)\n",
    "    print(f'Learning rate: {lr}')\n",
    "    print(f'Predictions: {predictions}')\n",
    "    print(f'Loss: {mse(target_data,predictions)}')\n",
    "    "
   ]
  },
  {
   "cell_type": "code",
   "execution_count": null,
   "id": "ecabf9e0-3f35-46c6-bbfb-2390c39a43d1",
   "metadata": {},
   "outputs": [],
   "source": []
  }
 ],
 "metadata": {
  "kernelspec": {
   "display_name": "Python 3 (ipykernel)",
   "language": "python",
   "name": "python3"
  },
  "language_info": {
   "codemirror_mode": {
    "name": "ipython",
    "version": 3
   },
   "file_extension": ".py",
   "mimetype": "text/x-python",
   "name": "python",
   "nbconvert_exporter": "python",
   "pygments_lexer": "ipython3",
   "version": "3.11.5"
  }
 },
 "nbformat": 4,
 "nbformat_minor": 5
}
