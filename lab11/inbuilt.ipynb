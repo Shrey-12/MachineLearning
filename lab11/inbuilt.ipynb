{
 "cells": [
  {
   "cell_type": "code",
   "execution_count": 16,
   "id": "461f674e-bd46-4e6d-9f42-62a6e45c6822",
   "metadata": {},
   "outputs": [],
   "source": [
    "import tensorflow as tf\n",
    "from tensorflow import keras\n",
    "import numpy as np\n",
    "from keras import backend as K"
   ]
  },
  {
   "cell_type": "code",
   "execution_count": 7,
   "id": "f969022b-6472-47ab-a368-5e0550542310",
   "metadata": {},
   "outputs": [],
   "source": [
    "in_data = np.array([[0.3, 0.8]])\n",
    "\n",
    "# Target data\n",
    "target_data = np.array([[0.05, 0.6]])"
   ]
  },
  {
   "cell_type": "code",
   "execution_count": 9,
   "id": "64e3b2cd-f5e2-4596-8011-406d2579895b",
   "metadata": {},
   "outputs": [],
   "source": [
    "model = tf.keras.models.Sequential()"
   ]
  },
  {
   "cell_type": "code",
   "execution_count": 10,
   "id": "98d7d419-3498-4163-91a8-96a51462a329",
   "metadata": {},
   "outputs": [],
   "source": [
    "model.add(tf.keras.layers.Dense(units=2, activation='sigmoid',input_shape=(2,)))"
   ]
  },
  {
   "cell_type": "code",
   "execution_count": 11,
   "id": "c90f4079-974c-4290-9000-0494280ef9b9",
   "metadata": {},
   "outputs": [],
   "source": [
    "model.add(tf.keras.layers.Dense(units=2, activation='sigmoid'))"
   ]
  },
  {
   "cell_type": "code",
   "execution_count": 14,
   "id": "54bd9d42-3bb5-46a1-aa77-19975755a544",
   "metadata": {},
   "outputs": [],
   "source": [
    "model.compile(optimizer='adam', loss='mse')"
   ]
  },
  {
   "cell_type": "code",
   "execution_count": 23,
   "id": "8a95f0a3-6c20-4068-92ea-714829d9dd32",
   "metadata": {
    "scrolled": true
   },
   "outputs": [
    {
     "name": "stdout",
     "output_type": "stream",
     "text": [
      "Epoch 1/5\n",
      "1/1 [==============================] - 0s 8ms/step - loss: 0.0042\n",
      "Epoch 2/5\n",
      "1/1 [==============================] - 0s 7ms/step - loss: 0.0011\n",
      "Epoch 3/5\n",
      "1/1 [==============================] - 0s 0s/step - loss: 7.4340e-04\n",
      "Epoch 4/5\n",
      "1/1 [==============================] - 0s 12ms/step - loss: 0.0023\n",
      "Epoch 5/5\n",
      "1/1 [==============================] - 0s 958us/step - loss: 0.0046\n",
      "---------------------------------------------\n",
      "Epoch 1/5\n",
      "1/1 [==============================] - 0s 9ms/step - loss: 0.0065\n",
      "Epoch 2/5\n",
      "1/1 [==============================] - 0s 32ms/step - loss: 0.0067\n",
      "Epoch 3/5\n",
      "1/1 [==============================] - 0s 10ms/step - loss: 0.0068\n",
      "Epoch 4/5\n",
      "1/1 [==============================] - 0s 4ms/step - loss: 0.0066\n",
      "Epoch 5/5\n",
      "1/1 [==============================] - 0s 11ms/step - loss: 0.0063\n",
      "---------------------------------------------\n",
      "Epoch 1/5\n",
      "1/1 [==============================] - 0s 8ms/step - loss: 0.0058\n",
      "Epoch 2/5\n",
      "1/1 [==============================] - 0s 8ms/step - loss: 0.0058\n",
      "Epoch 3/5\n",
      "1/1 [==============================] - 0s 3ms/step - loss: 0.0057\n",
      "Epoch 4/5\n",
      "1/1 [==============================] - 0s 0s/step - loss: 0.0056\n",
      "Epoch 5/5\n",
      "1/1 [==============================] - 0s 16ms/step - loss: 0.0056\n",
      "---------------------------------------------\n"
     ]
    }
   ],
   "source": [
    "learning_rates = [0.5,0.1,0.01]\n",
    "for lr in learning_rates:\n",
    "    K.set_value(model.optimizer.learning_rate,lr)\n",
    "    model.fit(in_data,target_data,epochs=5)\n",
    "    print('---------------------------------------------')"
   ]
  },
  {
   "cell_type": "code",
   "execution_count": 26,
   "id": "0b3e4c0d-7198-4e57-99ef-3c9322912fa6",
   "metadata": {},
   "outputs": [
    {
     "name": "stdout",
     "output_type": "stream",
     "text": [
      "[<tf.Variable 'dense/kernel:0' shape=(2, 2) dtype=float32, numpy=\n",
      "array([[-3.7280197, -3.8817315],\n",
      "       [-4.6150937, -2.4486108]], dtype=float32)>, <tf.Variable 'dense/bias:0' shape=(2,) dtype=float32, numpy=array([-3.6738188, -3.4134645], dtype=float32)>, <tf.Variable 'dense_1/kernel:0' shape=(2, 2) dtype=float32, numpy=\n",
      "array([[-3.4242191,  3.220315 ],\n",
      "       [-3.7124777,  2.3752327]], dtype=float32)>, <tf.Variable 'dense_1/bias:0' shape=(2,) dtype=float32, numpy=array([-4.116205  ,  0.83813286], dtype=float32)>]\n"
     ]
    }
   ],
   "source": [
    "print(model.trainable_variables) "
   ]
  },
  {
   "cell_type": "code",
   "execution_count": null,
   "id": "3af017bd-2d31-4d89-8110-c8f8e13893a5",
   "metadata": {},
   "outputs": [],
   "source": []
  }
 ],
 "metadata": {
  "kernelspec": {
   "display_name": "Python 3 (ipykernel)",
   "language": "python",
   "name": "python3"
  },
  "language_info": {
   "codemirror_mode": {
    "name": "ipython",
    "version": 3
   },
   "file_extension": ".py",
   "mimetype": "text/x-python",
   "name": "python",
   "nbconvert_exporter": "python",
   "pygments_lexer": "ipython3",
   "version": "3.11.5"
  }
 },
 "nbformat": 4,
 "nbformat_minor": 5
}
