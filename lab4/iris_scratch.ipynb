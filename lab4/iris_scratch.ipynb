{
 "cells": [
  {
   "cell_type": "code",
   "execution_count": 21,
   "id": "99042fc0-25d4-413b-8a03-fd71b0bc72f2",
   "metadata": {},
   "outputs": [],
   "source": [
    "import numpy as np\n",
    "from sklearn.datasets import load_iris\n",
    "from sklearn.model_selection import train_test_split\n",
    "from sklearn.metrics import accuracy_score"
   ]
  },
  {
   "cell_type": "code",
   "execution_count": 22,
   "id": "e6212306-9d7b-4994-8b96-185c8ee9892d",
   "metadata": {},
   "outputs": [],
   "source": [
    "iris = load_iris()\r\n",
    "X = iris.data\r\n",
    "y = iris.target"
   ]
  },
  {
   "cell_type": "code",
   "execution_count": 23,
   "id": "b7dfabc9-bbbb-4f30-b8d4-4ba8014a9511",
   "metadata": {},
   "outputs": [],
   "source": [
    "X_train, X_test, y_train, y_test = train_test_split(X, y, test_size=0.1, random_state=100)"
   ]
  },
  {
   "cell_type": "code",
   "execution_count": 24,
   "id": "60dae078-1f7e-44d7-873b-06666ef38489",
   "metadata": {},
   "outputs": [],
   "source": [
    "def weightInitialization(n_features):\n",
    "    w = np.zeros((n_features, 1))\n",
    "    b = 0\n",
    "    return w, b"
   ]
  },
  {
   "cell_type": "code",
   "execution_count": 25,
   "id": "b8388a8b-8b98-4de7-8570-983192e78ed8",
   "metadata": {},
   "outputs": [],
   "source": [
    "def sigmoid_activation(result):\n",
    "    return 1 / (1 + np.exp(-np.clip(result, -100, 100)))"
   ]
  },
  {
   "cell_type": "code",
   "execution_count": 26,
   "id": "50ceb42e-f081-40ae-80b6-fb79dcb8460b",
   "metadata": {},
   "outputs": [],
   "source": [
    "def model_optimize(w, b, X, Y):\n",
    "    m = X.shape[0]\n",
    "    \n",
    "    # Prediction\n",
    "    final_result = sigmoid_activation(np.dot(X, w) + b)\n",
    "    \n",
    "    epsilon = 1e-15  # Small constant to avoid division by zero\n",
    "    final_result = np.clip(final_result, epsilon, 1 - epsilon)  # Clip predictions to prevent extreme values\n",
    "    \n",
    "    cost = (-1/m) * np.sum(Y * np.log(final_result) + (1 - Y) * np.log(1 - final_result))\n",
    "    \n",
    "    # Gradient calculation\n",
    "    dw = (1/m) * np.dot(X.T, (final_result - Y))\n",
    "    db = (1/m) * np.sum(final_result - Y)\n",
    "    \n",
    "    grads = {\"dw\": dw, \"db\": db}\n",
    "    \n",
    "    return grads, cost"
   ]
  },
  {
   "cell_type": "code",
   "execution_count": 27,
   "id": "0880d34b-7236-457e-9412-12b65532a668",
   "metadata": {},
   "outputs": [],
   "source": [
    "def model_predict(w, b, X, Y, learning_rate, no_iterations):\n",
    "    costs = []\n",
    "    for i in range(no_iterations):\n",
    "        grads, cost = model_optimize(w, b, X, Y)\n",
    "        dw = grads[\"dw\"]\n",
    "        db = grads[\"db\"]\n",
    "        \n",
    "        # Weight update\n",
    "        w = w - learning_rate * dw\n",
    "        b = b - learning_rate * db\n",
    "        \n",
    "        if i % 100 == 0:\n",
    "            costs.append(cost)\n",
    "    \n",
    "    coeff = {\"w\": w, \"b\": b}\n",
    "    gradient = {\"dw\": dw, \"db\": db}\n",
    "    \n",
    "    return coeff, gradient, costs"
   ]
  },
  {
   "cell_type": "code",
   "execution_count": 28,
   "id": "539e5d19-abc7-4b16-af0d-5703b148619a",
   "metadata": {},
   "outputs": [],
   "source": [
    "def predict(final_pred):\n",
    "    return np.argmax(final_pred, axis=1)"
   ]
  },
  {
   "cell_type": "code",
   "execution_count": 29,
   "id": "7fe11360-97cc-4b59-82cf-e92884f075f6",
   "metadata": {},
   "outputs": [],
   "source": [
    "learning_rate = 0.01\n",
    "no_iterations = 3000"
   ]
  },
  {
   "cell_type": "code",
   "execution_count": 30,
   "id": "76e7c827-69e5-41f3-9fed-d97050d87c08",
   "metadata": {},
   "outputs": [],
   "source": [
    "w, b = weightInitialization(X_train.shape[1])"
   ]
  },
  {
   "cell_type": "code",
   "execution_count": 31,
   "id": "86cf2d7c-5f57-4adc-91d8-27d84c77c458",
   "metadata": {},
   "outputs": [],
   "source": [
    "coeff, _, _ = model_predict(w, b, X_train, y_train, learning_rate, no_iterations)"
   ]
  },
  {
   "cell_type": "code",
   "execution_count": 32,
   "id": "d9e59119-2f2a-459a-9c72-943c18735f29",
   "metadata": {},
   "outputs": [],
   "source": [
    "final_pred = sigmoid_activation(np.dot(X_test, coeff[\"w\"]) + coeff[\"b\"])"
   ]
  },
  {
   "cell_type": "code",
   "execution_count": 33,
   "id": "1557c40e-abfd-4e90-8f0a-e6fbcd9fbdd1",
   "metadata": {},
   "outputs": [
    {
     "name": "stdout",
     "output_type": "stream",
     "text": [
      "Accuracy: 0.5333333333333333\n"
     ]
    }
   ],
   "source": [
    "y_pred = predict(final_pred)\n",
    "accuracy = accuracy_score(y_test, y_pred)\n",
    "print(\"Accuracy:\", accuracy)\n"
   ]
  },
  {
   "cell_type": "code",
   "execution_count": 36,
   "id": "86aad447-8fc9-4efa-a879-3bd479b6a503",
   "metadata": {},
   "outputs": [
    {
     "data": {
      "text/plain": [
       "KFold(n_splits=3, random_state=None, shuffle=False)"
      ]
     },
     "execution_count": 36,
     "metadata": {},
     "output_type": "execute_result"
    }
   ],
   "source": [
    "from sklearn.model_selection import KFold\n",
    "kf = KFold(n_splits=3,shuffle=True,random_state=42)\n"
   ]
  },
  {
   "cell_type": "code",
   "execution_count": null,
   "id": "3d37153f-22f1-4ec3-a8f7-1106d0549b10",
   "metadata": {},
   "outputs": [],
   "source": []
  }
 ],
 "metadata": {
  "kernelspec": {
   "display_name": "Python 3 (ipykernel)",
   "language": "python",
   "name": "python3"
  },
  "language_info": {
   "codemirror_mode": {
    "name": "ipython",
    "version": 3
   },
   "file_extension": ".py",
   "mimetype": "text/x-python",
   "name": "python",
   "nbconvert_exporter": "python",
   "pygments_lexer": "ipython3",
   "version": "3.11.5"
  }
 },
 "nbformat": 4,
 "nbformat_minor": 5
}
